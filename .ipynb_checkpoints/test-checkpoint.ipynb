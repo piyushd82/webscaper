{
 "cells": [
  {
   "cell_type": "code",
   "execution_count": 3,
   "metadata": {},
   "outputs": [],
   "source": [
    "import requests\n",
    "from bs4 import BeautifulSoup\n",
    "from urllib.request import urlopen as uReq"
   ]
  },
  {
   "cell_type": "code",
   "execution_count": 4,
   "metadata": {},
   "outputs": [],
   "source": [
    "query = \"samsung note 20\"\n",
    "response = requests.get(f\"https://www.flipkart.com/{query}/product-reviews/itm38acf149a4551?pid=MOBFU5WYVAAGDCGW&lid=LSTMOBFU5WYVAAGDCGWKJD8SS&marketplace=FLIPKART\")\n"
   ]
  },
  {
   "cell_type": "code",
   "execution_count": 5,
   "metadata": {},
   "outputs": [
    {
     "data": {
      "text/plain": [
       "<Response [200]>"
      ]
     },
     "execution_count": 5,
     "metadata": {},
     "output_type": "execute_result"
    }
   ],
   "source": [
    "response"
   ]
  },
  {
   "cell_type": "code",
   "execution_count": 6,
   "metadata": {},
   "outputs": [
    {
     "name": "stdout",
     "output_type": "stream",
     "text": [
      "<Response [200]>\n"
     ]
    }
   ],
   "source": [
    "print(response)"
   ]
  },
  {
   "cell_type": "code",
   "execution_count": 7,
   "metadata": {},
   "outputs": [],
   "source": [
    "soup = BeautifulSoup(response.content, \"html.parser\")"
   ]
  },
  {
   "cell_type": "code",
   "execution_count": 8,
   "metadata": {},
   "outputs": [
    {
     "name": "stdout",
     "output_type": "stream",
     "text": [
      "5\n",
      "Nice handsetREAD MORE\n",
      "Flipkart Customer\n",
      "<p class=\"_2mcZGG\" id=\"review-82307f84-f437-4f68-be92-ebc24a21e3d3\"><span>Certified Buyer</span><span>, Amtala</span></p>\n",
      "<p class=\"_2sc7ZR _2V5EHH\">Flipkart Customer</p>\n",
      "-----------------------------------\n",
      "5\n",
      "Nice handsetREAD MORE\n",
      "Flipkart Customer\n",
      "<p class=\"_2mcZGG\" id=\"review-82307f84-f437-4f68-be92-ebc24a21e3d3\"><span>Certified Buyer</span><span>, Amtala</span></p>\n",
      "<p class=\"_2sc7ZR _2V5EHH\">Flipkart Customer</p>\n",
      "-----------------------------------\n",
      "5\n",
      "I loved itREAD MORE\n",
      "Randeep  sandhu \n",
      "<p class=\"_2mcZGG\" id=\"review-4e486dd9-0038-4c25-9a45-d51938ea7bf0\"><span>Certified Buyer</span><span>, Moga</span></p>\n",
      "<p class=\"_2sc7ZR _2V5EHH\">Randeep  sandhu </p>\n",
      "-----------------------------------\n",
      "5\n",
      "I loved itREAD MORE\n",
      "Randeep  sandhu \n",
      "<p class=\"_2mcZGG\" id=\"review-4e486dd9-0038-4c25-9a45-d51938ea7bf0\"><span>Certified Buyer</span><span>, Moga</span></p>\n",
      "<p class=\"_2sc7ZR _2V5EHH\">Randeep  sandhu </p>\n",
      "-----------------------------------\n",
      "4\n",
      "Best phone , but new One UI 2.5 need some refinementREAD MORE\n",
      "Gaurav Parmar\n",
      "<p class=\"_2mcZGG\" id=\"review-cbcdd947-5c00-4751-bb5f-df5f40691bef\"><span>Certified Buyer</span><span>, Pune</span></p>\n",
      "<p class=\"_2sc7ZR _2V5EHH\">Gaurav Parmar</p>\n",
      "-----------------------------------\n",
      "4\n",
      "Best phone , but new One UI 2.5 need some refinementREAD MORE\n",
      "Gaurav Parmar\n",
      "<p class=\"_2mcZGG\" id=\"review-cbcdd947-5c00-4751-bb5f-df5f40691bef\"><span>Certified Buyer</span><span>, Pune</span></p>\n",
      "<p class=\"_2sc7ZR _2V5EHH\">Gaurav Parmar</p>\n",
      "-----------------------------------\n",
      "5\n",
      "Best Smartphone Forever ♥️♥️♥️READ MORE\n",
      "Sagar Ayare\n",
      "<p class=\"_2mcZGG\" id=\"review-872d3334-0e06-4d2e-9fc8-0418e8472088\"><span>Certified Buyer</span><span>, Navi Mumbai</span></p>\n",
      "<p class=\"_2sc7ZR _2V5EHH\">Sagar Ayare</p>\n",
      "-----------------------------------\n",
      "5\n",
      "Best Smartphone Forever ♥️♥️♥️READ MORE\n",
      "Sagar Ayare\n",
      "<p class=\"_2mcZGG\" id=\"review-872d3334-0e06-4d2e-9fc8-0418e8472088\"><span>Certified Buyer</span><span>, Navi Mumbai</span></p>\n",
      "<p class=\"_2sc7ZR _2V5EHH\">Sagar Ayare</p>\n",
      "-----------------------------------\n",
      "5\n",
      "Awesome phone with awsome configuration liked it very muchREAD MORE\n",
      "abhijeet bannerjee\n",
      "<p class=\"_2mcZGG\" id=\"review-aacc1dc6-45bf-41e4-a881-bf12a2eead1c\"><span>Certified Buyer</span><span>, Ambala</span></p>\n",
      "<p class=\"_2sc7ZR _2V5EHH\">abhijeet bannerjee</p>\n",
      "-----------------------------------\n",
      "5\n",
      "Awesome phone with awsome configuration liked it very muchREAD MORE\n",
      "abhijeet bannerjee\n",
      "<p class=\"_2mcZGG\" id=\"review-aacc1dc6-45bf-41e4-a881-bf12a2eead1c\"><span>Certified Buyer</span><span>, Ambala</span></p>\n",
      "<p class=\"_2sc7ZR _2V5EHH\">abhijeet bannerjee</p>\n",
      "-----------------------------------\n",
      "5\n",
      "Awesome  phone and best cameraREAD MORE\n",
      "parabhjot  singh\n",
      "<p class=\"_2mcZGG\" id=\"review-1793969c-9987-41cf-9c76-e2ae8baba100\"><span>Certified Buyer</span><span>, Kapurthala</span></p>\n",
      "<p class=\"_2sc7ZR _2V5EHH\">parabhjot  singh</p>\n",
      "-----------------------------------\n",
      "5\n",
      "Awesome  phone and best cameraREAD MORE\n",
      "parabhjot  singh\n",
      "<p class=\"_2mcZGG\" id=\"review-1793969c-9987-41cf-9c76-e2ae8baba100\"><span>Certified Buyer</span><span>, Kapurthala</span></p>\n",
      "<p class=\"_2sc7ZR _2V5EHH\">parabhjot  singh</p>\n",
      "-----------------------------------\n",
      "3\n",
      "Ok product,over price only because of name NoteREAD MORE\n",
      "Swapnil\n",
      "<p class=\"_2mcZGG\" id=\"review-770fd56c-7851-4c78-85d3-b4a253965acf\"><span>Certified Buyer</span><span>, Nagpur</span></p>\n",
      "<p class=\"_2sc7ZR _2V5EHH\">Swapnil</p>\n",
      "-----------------------------------\n",
      "3\n",
      "Ok product,over price only because of name NoteREAD MORE\n",
      "Swapnil\n",
      "<p class=\"_2mcZGG\" id=\"review-770fd56c-7851-4c78-85d3-b4a253965acf\"><span>Certified Buyer</span><span>, Nagpur</span></p>\n",
      "<p class=\"_2sc7ZR _2V5EHH\">Swapnil</p>\n",
      "-----------------------------------\n",
      "5\n",
      "Best phone in the world 🌎READ MORE\n",
      "Tanveer Singh\n",
      "<p class=\"_2mcZGG\" id=\"review-e5fbe8d6-1d87-416e-a5b7-cfea57473074\"><span>Certified Buyer</span><span>, Pune</span></p>\n",
      "<p class=\"_2sc7ZR _2V5EHH\">Tanveer Singh</p>\n",
      "-----------------------------------\n",
      "5\n",
      "Best phone in the world 🌎READ MORE\n",
      "Tanveer Singh\n",
      "<p class=\"_2mcZGG\" id=\"review-e5fbe8d6-1d87-416e-a5b7-cfea57473074\"><span>Certified Buyer</span><span>, Pune</span></p>\n",
      "<p class=\"_2sc7ZR _2V5EHH\">Tanveer Singh</p>\n",
      "-----------------------------------\n"
     ]
    },
    {
     "ename": "AttributeError",
     "evalue": "'NoneType' object has no attribute 'text'",
     "output_type": "error",
     "traceback": [
      "\u001b[1;31m---------------------------------------------------------------------------\u001b[0m",
      "\u001b[1;31mAttributeError\u001b[0m                            Traceback (most recent call last)",
      "Cell \u001b[1;32mIn[8], line 16\u001b[0m\n\u001b[0;32m     14\u001b[0m val4 \u001b[38;5;241m=\u001b[39m data\u001b[38;5;241m.\u001b[39mfind(\u001b[38;5;124m'\u001b[39m\u001b[38;5;124mp\u001b[39m\u001b[38;5;124m'\u001b[39m, class_\u001b[38;5;241m=\u001b[39m\u001b[38;5;124m'\u001b[39m\u001b[38;5;124m_2mcZGG\u001b[39m\u001b[38;5;124m'\u001b[39m)\n\u001b[0;32m     15\u001b[0m val5 \u001b[38;5;241m=\u001b[39m data\u001b[38;5;241m.\u001b[39mfind(\u001b[38;5;124m'\u001b[39m\u001b[38;5;124mp\u001b[39m\u001b[38;5;124m'\u001b[39m, class_\u001b[38;5;241m=\u001b[39m\u001b[38;5;124m'\u001b[39m\u001b[38;5;124m_2sc7ZR\u001b[39m\u001b[38;5;124m'\u001b[39m)\n\u001b[1;32m---> 16\u001b[0m \u001b[38;5;28mprint\u001b[39m(\u001b[43mval\u001b[49m\u001b[38;5;241;43m.\u001b[39;49m\u001b[43mtext\u001b[49m)\n\u001b[0;32m     17\u001b[0m \u001b[38;5;28mprint\u001b[39m(val2\u001b[38;5;241m.\u001b[39mtext)\n\u001b[0;32m     18\u001b[0m \u001b[38;5;28mprint\u001b[39m(val3\u001b[38;5;241m.\u001b[39mtext)\n",
      "\u001b[1;31mAttributeError\u001b[0m: 'NoneType' object has no attribute 'text'"
     ]
    }
   ],
   "source": [
    "soup.contents\n",
    "\n",
    "col_itm = soup.find_all('div', class_='col')\n",
    "\n",
    "del col_itm[0]\n",
    "for div in col_itm:\n",
    "        # Extract the data from the div element\n",
    "        \n",
    "        data = div\n",
    "        #print(type(data))\n",
    "        val = data.find('div', class_='_3LWZlK _1BLPMq')\n",
    "        val2 = data.find('div', class_='t-ZTKy')\n",
    "        val3 = data.find('p', class_='_2sc7ZR _2V5EHH')\n",
    "        val4 = data.find('p', class_='_2mcZGG')\n",
    "        val5 = data.find('p', class_='_2sc7ZR')\n",
    "        print(val.text)\n",
    "        print(val2.text)\n",
    "        print(val3.text)\n",
    "        print(val4)\n",
    "        print(val5)\n",
    "        print(\"-----------------------------------\")\n",
    "\n",
    "#len(row_itm)"
   ]
  },
  {
   "cell_type": "code",
   "execution_count": 34,
   "metadata": {},
   "outputs": [
    {
     "name": "stdout",
     "output_type": "stream",
     "text": [
      "{'', '4|Best phone , but new One UI 2.5 need some refinement|Really Nice|Gaurav Parmar| Pune|Sep, 2020', '5|I loved it|Perfect product!|Randeep  sandhu| Moga|Sep, 2020', '5|Best phone in the world 🌎|Mind-blowing purchase|Tanveer Singh| Pune|Sep, 2020', '5|Awesome  phone and best camera|Perfect product!|parabhjot  singh| Kapurthala|Oct, 2020', '5|Nice handset|Highly recommended|Flipkart Customer| Amtala|Sep, 2020', '5|Awesome phone with awsome configuration liked it very much|Worth every penny|abhijeet bannerjee| Ambala|Sep, 2020', '5|Best Smartphone Forever ♥️♥️♥️|Worth every penny|Sagar Ayare| Navi Mumbai|Oct, 2020', '3|Ok product,over price only because of name Note|Just okay|Swapnil| Nagpur|Jan, 2022'}\n"
     ]
    }
   ],
   "source": [
    "col_itm = soup.find_all('div', class_='col')\n",
    "delimeter = \"|\"\n",
    "del col_itm[0]\n",
    "\n",
    "final_set = set()\n",
    "for div in col_itm:\n",
    "    #print(\"________________________\")\n",
    "    row_tag = div.find_all('div', class_=\"row\")\n",
    "    div_text = \"\"\n",
    "    p_text = \"\"\n",
    "    for j in row_tag:\n",
    "        div_tag = j.find_all('div')\n",
    "        for divdtl in div_tag:\n",
    "            if divdtl.text.strip() not in div_text:\n",
    "                div_text = div_text + delimeter +divdtl.text.strip()\n",
    "        p_tag = j.find_all('p')\n",
    "        for pdtl in p_tag:\n",
    "             if pdtl.text.strip() not in p_text:\n",
    "                p_text = p_text + delimeter +pdtl.text.strip()\n",
    "    \n",
    "    div_text = div_text.replace('READ MORE', \"\")\n",
    "    div_text = div_text.replace('PermalinkReport Abuse', \"\")\n",
    "    div_text = div_text.replace('Certified Buyer', \"\")\n",
    "    #print(div_text)\n",
    "    parts = div_text.rsplit(delimeter, 2)\n",
    "    div_text = parts[0]\n",
    "    #print(div_text)\n",
    "    \n",
    "    p_text = p_text.replace('Certified Buyer,', \"\")\n",
    "    p_text = p_text.replace(',', \"\")\n",
    "    #print(p_text)\n",
    "    final_set.add(div_text[1:]+p_text)\n",
    "print(final_set)"
   ]
  },
  {
   "cell_type": "code",
   "execution_count": null,
   "metadata": {},
   "outputs": [],
   "source": []
  }
 ],
 "metadata": {
  "kernelspec": {
   "display_name": "Python 3 (ipykernel)",
   "language": "python",
   "name": "python3"
  },
  "language_info": {
   "codemirror_mode": {
    "name": "ipython",
    "version": 3
   },
   "file_extension": ".py",
   "mimetype": "text/x-python",
   "name": "python",
   "nbconvert_exporter": "python",
   "pygments_lexer": "ipython3",
   "version": "3.9.0"
  }
 },
 "nbformat": 4,
 "nbformat_minor": 4
}
